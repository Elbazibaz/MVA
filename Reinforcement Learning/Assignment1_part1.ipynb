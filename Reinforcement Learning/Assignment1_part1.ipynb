{
  "nbformat": 4,
  "nbformat_minor": 0,
  "metadata": {
    "kernelspec": {
      "name": "python3",
      "display_name": "Python 3"
    },
    "language_info": {
      "codemirror_mode": {
        "name": "ipython",
        "version": 3
      },
      "file_extension": ".py",
      "mimetype": "text/x-python",
      "name": "python",
      "nbconvert_exporter": "python",
      "pygments_lexer": "ipython3",
      "version": "3.6.8"
    },
    "colab": {
      "name": "MVARL19_part1.ipynb",
      "provenance": [],
      "private_outputs": true,
      "collapsed_sections": [],
      "toc_visible": true
    }
  },
  "cells": [
    {
      "cell_type": "markdown",
      "metadata": {
        "id": "4P3WM-hVOPfo",
        "colab_type": "text"
      },
      "source": [
        "# Reinforcement Learning in Finite MDPs"
      ]
    },
    {
      "cell_type": "code",
      "metadata": {
        "id": "E9_DLZvWQzhb",
        "colab_type": "code",
        "colab": {}
      },
      "source": [
        "!git clone https://github.com/rlgammazero/mvarl_hands_on.git > /dev/null 2>&1"
      ],
      "execution_count": 0,
      "outputs": []
    },
    {
      "cell_type": "markdown",
      "metadata": {
        "id": "wnzUJeyJOPfq",
        "colab_type": "text"
      },
      "source": [
        "## MDPs"
      ]
    },
    {
      "cell_type": "code",
      "metadata": {
        "id": "RcWJSw_uOPfr",
        "colab_type": "code",
        "colab": {}
      },
      "source": [
        "import sys\n",
        "sys.path.insert(0, './mvarl_hands_on/utils')\n",
        "import numpy as np\n",
        "from scipy.special import softmax # for SARSA\n",
        "import matplotlib.pyplot as plt\n",
        "import json\n",
        "import math\n",
        "from cliffwalk import CliffWalk"
      ],
      "execution_count": 0,
      "outputs": []
    },
    {
      "cell_type": "markdown",
      "metadata": {
        "id": "ym-B_4HaOPfu",
        "colab_type": "text"
      },
      "source": [
        "Setting up the environment"
      ]
    },
    {
      "cell_type": "code",
      "metadata": {
        "id": "rVR5qYoLOPfv",
        "colab_type": "code",
        "colab": {}
      },
      "source": [
        "env = CliffWalk(proba_succ=0.98)\n",
        "\n",
        "####################################################################################\n",
        "# You probably want to test smaller enviroments before\n",
        "# env = ToyEnv1(gamma=0.95)\n",
        "####################################################################################\n",
        "\n",
        "# Useful attributes\n",
        "print(\"Set of states:\", env.states)\n",
        "print(\"Set of actions:\", env.actions)\n",
        "print(\"Number of states: \", env.Ns)\n",
        "print(\"Number of actions: \", env.Na)\n",
        "print(\"P has shape: \", env.P.shape)  # P[s, a, s'] = env.P[s, a, s']\n",
        "print(\"discount factor: \", env.gamma)\n",
        "print(\"\")\n",
        "\n",
        "# Usefult methods\n",
        "state = env.reset() # get initial state\n",
        "print(\"initial state: \", state)\n",
        "print(\"reward at (s=1, a=3,s'=2): \", env.reward_func(1,3,2))\n",
        "print(\"\")\n",
        "\n",
        "# A random policy\n",
        "policy = np.random.randint(env.Na, size = (env.Ns,))\n",
        "print(\"random policy = \", policy)\n",
        "\n",
        "# Interacting with the environment\n",
        "print(\"(s, a, s', r):\")\n",
        "for time in range(4):\n",
        "    action = policy[state]\n",
        "    next_state, reward, done, info = env.step(action)\n",
        "    print(state, action, next_state, reward)\n",
        "    if done:\n",
        "        break\n",
        "    state = next_state\n",
        "print(\"\")\n",
        "print(env.R.shape)"
      ],
      "execution_count": 0,
      "outputs": []
    },
    {
      "cell_type": "markdown",
      "metadata": {
        "id": "AUlNvT3cOPfx",
        "colab_type": "text"
      },
      "source": [
        "## Question 1: Value iteration\n",
        "1. Write a function applying the optimal Bellman operator on a provided Q function: $Q_1 = LQ_0, \\; Q_0\\in \\mathbb{R}^{S\\times A}$\n",
        "2. Write a function implementing Value Iteration (VI) with $\\infty$-norm stopping condition (reuse function implemented in 1)\n",
        "3. Evaluate the convergence of your estimate, i.e., plot the value $\\|V_n - V^\\star\\|_{\\infty}$"
      ]
    },
    {
      "cell_type": "code",
      "metadata": {
        "id": "R8TLRx6MOPfy",
        "colab_type": "code",
        "colab": {}
      },
      "source": [
        "# --------------\n",
        "# Point 1\n",
        "# --------------\n",
        "def bellman_operator(Q0, Ns, Na, R, P,gamma):\n",
        "    Q_max = np.max(Q0, axis=1)\n",
        "    greedy_policy = np.argmax(Q0, axis=1)\n",
        "    Q1 = np.asarray([[np.dot(P[state,action,:],(R[state,action, :] +gamma*Q_max)) for action in range(Na)] for state in range(Ns)])\n",
        "    return Q1, greedy_policy"
      ],
      "execution_count": 0,
      "outputs": []
    },
    {
      "cell_type": "code",
      "metadata": {
        "id": "jj65cQk5OPf0",
        "colab_type": "code",
        "colab": {}
      },
      "source": [
        "# --------------\n",
        "# Point 2\n",
        "# --------------\n",
        "def value_iteration(Q0, env, epsilon=1e-5):\n",
        "    # TODO (feel free to change the return argument)\n",
        "    Q_history = [Q0]\n",
        "    Q = Q0 \n",
        "    start = True\n",
        "    while (np.max( np.abs( Q - Q0 ) ) > epsilon or start):\n",
        "        start = False\n",
        "        Q0 = Q\n",
        "        Q,greedy_policy= bellman_operator(Q0, env.Ns, env.Na, env.R, env.P, env.gamma)\n",
        "        Q_history.append(Q)\n",
        "    return Q, greedy_policy, Q_history"
      ],
      "execution_count": 0,
      "outputs": []
    },
    {
      "cell_type": "code",
      "metadata": {
        "id": "W_lBe6q6OPf2",
        "colab_type": "code",
        "colab": {}
      },
      "source": [
        "# --------------\n",
        "# Point 3\n",
        "# --------------\n",
        "with open(\"./mvarl_hands_on/data/Q_opts.json\", \"r\") as fp:\n",
        "    Qopts = json.load(fp)\n",
        "Qstar = np.array(Qopts[\"{}_{}\".format(type(env).__name__,env.gamma)])\n",
        "Q0 = np.zeros(Qstar.shape)\n",
        "Q, greedy_policy, Q_history = value_iteration(Q0,env)\n",
        "\n",
        "V_star = np.max(Qstar, axis=1)\n",
        "norm_values = [np.max(np.abs(np.max(Q, axis=1)-V_star)) for Q in Q_history]\n",
        "plt.plot(norm_values)\n",
        "plt.xlabel('Iteration')\n",
        "plt.ylabel('Error')\n",
        "plt.title(\"Q-learning: Convergence of Q\")"
      ],
      "execution_count": 0,
      "outputs": []
    },
    {
      "cell_type": "code",
      "metadata": {
        "id": "FbzFs3tDvcJy",
        "colab_type": "code",
        "colab": {}
      },
      "source": [
        "state = env.reset()\n",
        "env.render()\n",
        "for i in range(50):\n",
        "    action = greedy_policy[state]\n",
        "    state, reward, done, _ = env.step(action)\n",
        "    env.render()"
      ],
      "execution_count": 0,
      "outputs": []
    },
    {
      "cell_type": "markdown",
      "metadata": {
        "colab_type": "text",
        "id": "wAWfLllWcm8h"
      },
      "source": [
        "## Question 2: Q learning\n",
        "Q learning is a model-free algorithm for estimating the optimal Q-function online.\n",
        "It is an off-policy algorithm since the samples are collected with a policy that is (potentially) not the one associated to the estimated Q-function.\n",
        "\n",
        "1. Implement Q learning with $\\epsilon$-greedy exploration.\n",
        "  - Plot the error in Q-functions over iterations\n",
        "  - Plot the sum of rewards as a function of iteration\n",
        "\n",
        "\n",
        "$\\epsilon$-greedy policy:\n",
        "$$\n",
        "\\pi(s) = \\begin{cases}\n",
        "\\max_a Q(s,a) & \\text{w.p.} \\epsilon\\\\\n",
        "\\text{random action} & \\text{w.p.} 1- \\epsilon\n",
        "\\end{cases}\n",
        "$$"
      ]
    },
    {
      "cell_type": "code",
      "metadata": {
        "id": "_t3WqIt-OPf5",
        "colab_type": "code",
        "colab": {}
      },
      "source": [
        "# ---------------------------\n",
        "# Q-Learning\n",
        "# ---------------------------\n",
        "# suggested interface\n",
        "# you can change it!\n",
        "import random\n",
        "class QLearning:\n",
        "    \"\"\"\n",
        "    Q learning with epsilon-greedy exploration\n",
        "    \"\"\"\n",
        "    def __init__(self,Q0,gamma = env.gamma,eps = 0.15):\n",
        "      self.gamma= gamma\n",
        "      self.dim_Na = Q0.shape[1]\n",
        "      self.dim_Ns = Q0.shape[0]\n",
        "      self.eps = eps\n",
        "      self.Q = Q0\n",
        "      self.pi = np.argmax(Q0,axis =1)\n",
        "      self.cumulative_rewards=[0]\n",
        "    \n",
        "    def sample_action(self, state, greedy):\n",
        "      \"\"\" returns an action (int) following the eps-greedy policy\"\"\"\n",
        "      rand_sample = np.random.random()\n",
        "      \n",
        "      if(rand_sample > self.eps ):\n",
        "        # generate random action\n",
        "        action = np.random.randint(0,self.dim_Na)\n",
        "      else :\n",
        "        # Take max action \n",
        "        action = greedy[state]\n",
        "      return action\n",
        "    \n",
        "    def update(self, state, action, next_state, reward, alpha):\n",
        "      \"\"\"performs an update of the state action value function\"\"\"\n",
        "      delta = reward + self.gamma*(self.Q[next_state]).max() - self.Q[state,action] \n",
        "      self.Q[state,action] = self.Q[state,action]+alpha*delta\n",
        "      self.pi_update()\n",
        "      self.cumulative_rewards.append(self.cumulative_rewards[-1]*self.gamma + reward)\n",
        "    def pi_update(self):\n",
        "      self.pi = np.argmax(self.Q, axis =1)\n",
        "\n",
        "    "
      ],
      "execution_count": 0,
      "outputs": []
    },
    {
      "cell_type": "code",
      "metadata": {
        "id": "CKTc5nWIOPf6",
        "colab_type": "code",
        "colab": {}
      },
      "source": [
        "# --------------\n",
        "# Point 1\n",
        "# --------------\n",
        "# Number of Q learning steps\n",
        "max_steps = int(1e4)  \n",
        "# max_steps = 10\n",
        "\n",
        "Q0 = np.zeros((env.Ns, env.Na))\n",
        "# Use the previous code to verify the correctness of q learning\n",
        "Q_opt, pi_opt,Q_hist = value_iteration(Q0, env, epsilon=1e-8)\n",
        "\n",
        "#------------------------------------------------------------------------------#\n",
        "\n",
        "ql = QLearning(Q0,env.gamma)\n",
        "# main algorithmic loop\n",
        "norm_values = []\n",
        "#obs = env.reset()\n",
        "num_runs = 100\n",
        "visits = np.zeros((env.Ns,env.Na))+1\n",
        "cum_r = []\n",
        "for i in range(num_runs):\n",
        "  obs = env.reset() \n",
        "  done = False\n",
        "  t = 0\n",
        "  obs = env.reset()\n",
        "  while t < max_steps and not done:\n",
        "\n",
        "    action = ql.sample_action(obs,ql.pi)\n",
        "    observation, reward, done, info = env.step(action)\n",
        "    norm_values.append(np.abs(ql.Q - Q_opt).mean())\n",
        "    # Perform update for Q\n",
        "    ql.update(obs,action, observation, reward,1/(i+1))\n",
        "    visits[obs,action]+=1\n",
        "    t = t + 1\n",
        "    obs = observation\n",
        "    \n",
        "  cum_r.append(np.sum(ql.cumulative_rewards))\n",
        "  ql.cumulative_rewards =[0]\n",
        "print(env.render())\n",
        "print(\"optimal policy: \", pi_opt)\n",
        "greedy_policy = np.argmax(ql.Q, axis=1)\n",
        "print(\"est policy:\", greedy_policy)\n",
        " \n",
        "\n",
        "f, (ax1, ax2) = plt.subplots(1, 2, figsize = (10,5))\n",
        "\n",
        "ax1.plot(norm_values)\n",
        "ax1.set_xlabel('Iteration')\n",
        "ax1.set_ylabel('Error')\n",
        "ax1.set_title(\"Q-learning: Convergence of Q\")\n",
        "ax2.plot(cum_r)\n",
        "ax2.set_xlabel('Iteration')\n",
        "ax2.set_ylabel('rewards')\n",
        "ax2.set_title(\"Cumulative sum of rewards through Q-learning \")\n",
        "\n",
        "# how confident are you in the performance of the algorithm? maybe a single run is not enough"
      ],
      "execution_count": 0,
      "outputs": []
    },
    {
      "cell_type": "markdown",
      "metadata": {
        "id": "eGEteRn4qySr",
        "colab_type": "text"
      },
      "source": [
        "---\n",
        "## Comments\n",
        ">Q-learning algo seems to have difficulty to converge with this setting"
      ]
    }
  ]
}