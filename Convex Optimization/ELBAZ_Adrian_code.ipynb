{
  "nbformat": 4,
  "nbformat_minor": 0,
  "metadata": {
    "colab": {
      "name": "Convex Opti.ipynb",
      "provenance": [],
      "collapsed_sections": []
    },
    "kernelspec": {
      "name": "python3",
      "display_name": "Python 3"
    }
  },
  "cells": [
    {
      "cell_type": "code",
      "metadata": {
        "id": "9D-s6e_s6-pB",
        "colab_type": "code",
        "colab": {}
      },
      "source": [
        "import numpy as np\n",
        "import scipy as sc\n",
        "import matplotlib.pyplot as plt\n",
        "from scipy.linalg import inv\n",
        "\n",
        "\n",
        "def f0(t,Q,v,b,A,p):\n",
        "  tmp = [np.log(b[i] - np.dot(A[i,:],v)) for i in range(A.shape[0]) ]\n",
        "  return t*(np.dot(v.T,np.dot(Q,v))) + t*np.dot(p.T, v) - np.sum(tmp,axis = 0)\n",
        "\n",
        "\n",
        "def grad_f0(t,Q,v,p,A,b):\n",
        "  tmp = [A[i,:] / (b[i] - np.dot(A[i,:], v ) ) for i in range(A.shape[0])]\n",
        "  return np.dot(t*(Q + Q.T), v).reshape(-1,1) + (p*t).reshape(-1,1) + np.sum(tmp, axis = 0).reshape(-1,1)\n",
        "\n",
        "def Hessian_f0(A,t,Q,b,v):\n",
        "  tmp = [ ( A[i,:].reshape((A.shape[1],1))@A[i,:].T.reshape((1,A.shape[1])) ) / (b[i] - np.dot(A[i,:].T, v ) )**2 for i in range(A.shape[0])]\n",
        "  return t*(Q + Q.T) + np.sum(tmp,axis = 0)\n",
        "\n",
        "def centering_step(t,Q,v0,p,A,b,eps):\n",
        "  \"\"\" This function is meant to compute the inner steps, i.e. the Newton's method for an unconstrained optimization problem\"\"\"\n",
        "  V = []\n",
        "  V.append(v0)\n",
        "  ## Newton part :\n",
        "  v = v0\n",
        "  while(True):\n",
        "    tmp_gradf0 = grad_f0(t,Q,v,p,A,b) \n",
        "    tmp_Hess_f0 = Hessian_f0(A,t,Q,b,v)\n",
        "    inv_Hess = inv(tmp_Hess_f0)\n",
        "\n",
        "    newton_step = -np.dot(inv_Hess, tmp_gradf0)\n",
        "    lambda_squared = np.dot(np.dot(tmp_gradf0.T,inv_Hess ), tmp_gradf0)\n",
        "    stopping_crit = lambda_squared/2\n",
        "    if (stopping_crit <= eps):\n",
        "      break\n",
        "    else : \n",
        "      ## Backtracking line search, alpha in (0,0.5) and beta in (0,1) \n",
        "      alpha, beta =  0.05, 0.45\n",
        "      t_linesearch = 1\n",
        "      while( not((b-np.dot(A,v+t_linesearch*newton_step))>0).all() or f0(t,Q,v + t_linesearch*newton_step,b,A,p) > f0(t,Q,v,b,A,p) + alpha*t_linesearch * (np.dot(grad_f0(t,Q,v,p,A,b).T, newton_step)) ):\n",
        "        t_linesearch = beta*t_linesearch\n",
        "      v = v + t_linesearch*newton_step\n",
        "      V.append(v)\n",
        "  return V\n",
        "\n",
        "def barr_method(Q,p,A,b,v0,eps,mu):\n",
        "  \"\"\" This function computes a central path to the QP optimization problem\"\"\"\n",
        " \n",
        "  t = 0.5\n",
        "  v = v0\n",
        "  V = [v0]\n",
        "  m = A.shape[0]\n",
        "  \n",
        "  nbr_newt_iter = [0] ## Added for the final plot, contains the number of inner steps (in Newton's method)\n",
        "  while(True):\n",
        "      tmp = centering_step(t,Q,v,p,A,b,eps)\n",
        "      v = tmp[-1]\n",
        "      #print(\"v : {}\".format(v))\n",
        "      nbr_newt_iter.append(len(tmp))\n",
        "      V.append(v)\n",
        "      if (m/t < eps):\n",
        "        break\n",
        "      else :\n",
        "        t = mu*t\n",
        "\n",
        "  return nbr_newt_iter, V"
      ],
      "execution_count": 0,
      "outputs": []
    },
    {
      "cell_type": "code",
      "metadata": {
        "id": "qMlc29bYCMTc",
        "colab_type": "code",
        "outputId": "019a3214-b680-4e9b-875c-da6e7a21f29a",
        "colab": {
          "base_uri": "https://localhost:8080/",
          "height": 442
        }
      },
      "source": [
        "import sklearn\n",
        "from sklearn.datasets import make_regression\n",
        "## Test on LASSO ##\n",
        "d = 100\n",
        "n = 50\n",
        "\n",
        "# Initial LASSO paramaters \n",
        "lbda = 10\n",
        "np.random.seed(2)\n",
        "X,y = make_regression(n_samples=n, n_features=d, n_informative=10, noise = 1)\n",
        "y = y.reshape((-1,1))\n",
        "\n",
        "# QP parameters \n",
        "Q = 1/2* np.eye(n)\n",
        "b = np.zeros(2*d) + lbda\n",
        "A = np.concatenate((X.T, -X.T), axis = 0)\n",
        "p = -y\n",
        "# Barrier method parameters\n",
        "\n",
        "mu_list = [2,15,50,100,250]\n",
        "eps = 0.0001\n",
        "\n",
        "# Feasible point \n",
        "v0 =np.zeros(n).reshape(-1,1) # since lambda > 0, it is always a feasible point (bi = lambda)\n",
        "\n",
        "results = [] # contains central points for each mu\n",
        "newt_steps_recap = [] # contains number of newton steps per outer iteration for each mu\n",
        "for mu in mu_list : \n",
        "  ## We added mu as an argument of barr_method for simplicity\n",
        "  newt_itr, minimizers_values = barr_method(Q,p,A,b,v0,eps,mu)\n",
        "  results.append(minimizers_values)\n",
        "  newt_steps_recap.append(newt_itr)\n",
        "\n",
        "\n",
        "## List of vector of differences wrt to surrogate f*\n",
        "vec = [[l[i].T@Q@l[i] + np.dot(p.reshape((1,-1)),l[i]) - l[-1].T@Q@l[-1] - np.dot(p.reshape((1,-1)),l[-1]) for i in range(len(l))] for l in results]\n",
        "\n",
        "## Plotting \n",
        "plt.figure(figsize=(10,7))  \n",
        "for i in range(len(results)):\n",
        "  t = np.cumsum(newt_steps_recap[i]).reshape(-1,1)\n",
        "  plt.step(t, np.ravel(vec[i]), label = \"mu = {}\".format(str(mu_list[i])))\n",
        "  plt.legend(loc = 'upper right')\n",
        "\n",
        "plt.semilogy()\n",
        "plt.xlabel('Number of Newton iterations')\n",
        "plt.ylabel('$f(v_t)-f^*$')\n",
        "plt.show()"
      ],
      "execution_count": 38,
      "outputs": [
        {
          "output_type": "display_data",
          "data": {
            "image/png": "[encoded data removed]",
            "text/plain": [
              "<Figure size 720x504 with 1 Axes>"
            ]
          },
          "metadata": {
            "tags": []
          }
        }
      ]
    },
    {
      "cell_type": "code",
      "metadata": {
        "id": "eOViWvrit4Xy",
        "colab_type": "code",
        "colab": {}
      },
      "source": [
        ""
      ],
      "execution_count": 0,
      "outputs": []
    }
  ]
}